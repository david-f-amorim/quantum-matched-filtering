{
 "cells": [
  {
   "cell_type": "code",
   "execution_count": null,
   "metadata": {},
   "outputs": [
    {
     "data": {
      "text/plain": [
       "array([[-0.00411523,  0.99588477,  0.09053498],\n",
       "       [ 0.99588477, -0.00411523,  0.09053498],\n",
       "       [-0.09053498, -0.09053498,  0.99176955]])"
      ]
     },
     "execution_count": 24,
     "metadata": {},
     "output_type": "execute_result"
    }
   ],
   "source": [
    "import numpy as np \n",
    "\n",
    "N = 3\n",
    "M = 1\n",
    "\n",
    "c_0 = np.ones(N) / np.sqrt(N) \n",
    "\n",
    "F = np.ones(N) \n",
    "L = 2/N * np.ones((N,N))\n",
    "\n",
    "for i in np.arange(N):\n",
    "    if i >= N-M:\n",
    "        F[i]*= -1\n",
    "for i in np.arange(N):\n",
    "    for j in np.arange(N):\n",
    "        delta=0\n",
    "        if i==j:\n",
    "            delta=1\n",
    "        L[i,j] = (2/N - delta)*F[j]\n",
    "\n",
    "\n",
    "\n"
   ]
  },
  {
   "cell_type": "code",
   "execution_count": 19,
   "metadata": {},
   "outputs": [
    {
     "data": {
      "text/plain": [
       "np.float64(0.5477225575051661)"
      ]
     },
     "execution_count": 19,
     "metadata": {},
     "output_type": "execute_result"
    }
   ],
   "source": [
    "N = 10 \n",
    "M = 3 \n",
    "\n",
    "u = np.sqrt(N-M) / np.sqrt(N) * (1 - 2*M* (N+1)/N**2)\n",
    "m = np.sqrt(M) / np.sqrt(N) * (1 + 2/N - 2*M* (N+1)/N**2)\n",
    "\n",
    "np.sqrt(M) / np.sqrt(N)"
   ]
  },
  {
   "cell_type": "code",
   "execution_count": null,
   "metadata": {},
   "outputs": [],
   "source": []
  }
 ],
 "metadata": {
  "kernelspec": {
   "display_name": "Python 3",
   "language": "python",
   "name": "python3"
  },
  "language_info": {
   "codemirror_mode": {
    "name": "ipython",
    "version": 3
   },
   "file_extension": ".py",
   "mimetype": "text/x-python",
   "name": "python",
   "nbconvert_exporter": "python",
   "pygments_lexer": "ipython3",
   "version": "3.12.9"
  }
 },
 "nbformat": 4,
 "nbformat_minor": 2
}
